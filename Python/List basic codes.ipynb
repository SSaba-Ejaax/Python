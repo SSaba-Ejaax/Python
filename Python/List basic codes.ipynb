{
 "cells": [
  {
   "cell_type": "code",
   "execution_count": 1,
   "id": "8843f15d-6d1c-46ff-87ff-3b8aedeb5895",
   "metadata": {},
   "outputs": [
    {
     "name": "stdout",
     "output_type": "stream",
     "text": [
      "[]\n"
     ]
    }
   ],
   "source": [
    "#How do you create an empty list in Python?\n",
    "L1=[]\n",
    "print(L1)"
   ]
  },
  {
   "cell_type": "code",
   "execution_count": 2,
   "id": "b4e6bb58-08d2-4d3e-93ea-a60ccae7d3d4",
   "metadata": {},
   "outputs": [
    {
     "name": "stdout",
     "output_type": "stream",
     "text": [
      "['amna', 'aman', 'kamal', 'mango']\n"
     ]
    }
   ],
   "source": [
    "#How do you add an element to a list in Python?\n",
    "L2=[\"amna\",\"aman\",\"kamal\"]\n",
    "L2.append(\"mango\")\n",
    "print(L2)"
   ]
  },
  {
   "cell_type": "code",
   "execution_count": 17,
   "id": "4a1f8602-86c2-42cf-8c5f-5d86f3d377b9",
   "metadata": {},
   "outputs": [
    {
     "name": "stdout",
     "output_type": "stream",
     "text": [
      "['amna', 'kamal', 'mango']\n"
     ]
    }
   ],
   "source": [
    "#How do you remove an element from a list in Python?\n",
    "L2=['amna', 'aman', 'kamal', 'mango']\n",
    "L2.remove(\"aman\")\n",
    "print(L2)"
   ]
  },
  {
   "cell_type": "code",
   "execution_count": 18,
   "id": "28a25d4c-431d-4712-832d-62257299d807",
   "metadata": {},
   "outputs": [
    {
     "data": {
      "text/plain": [
       "'aman'"
      ]
     },
     "execution_count": 18,
     "metadata": {},
     "output_type": "execute_result"
    }
   ],
   "source": [
    "#How do you access the first element of a list in Python?\n",
    "L2=['amna', 'aman', 'kamal', 'mango']\n",
    "L2[1]"
   ]
  },
  {
   "cell_type": "code",
   "execution_count": 20,
   "id": "85dc0d3a-3252-4855-ba11-a89f6a8e4b14",
   "metadata": {},
   "outputs": [
    {
     "data": {
      "text/plain": [
       "4"
      ]
     },
     "execution_count": 20,
     "metadata": {},
     "output_type": "execute_result"
    }
   ],
   "source": [
    "#How do you find the length of a list in Python?\n",
    "len(L2)"
   ]
  },
  {
   "cell_type": "code",
   "execution_count": 22,
   "id": "58c71466-7b0a-44e2-b9de-d9e2100aec95",
   "metadata": {},
   "outputs": [
    {
     "name": "stdout",
     "output_type": "stream",
     "text": [
      "[1, 2, 3, 'cherry', 'banana', 4, 5, 6, 'apple', 'apricoat']\n"
     ]
    }
   ],
   "source": [
    "#How do you concatenate two lists in Python?\n",
    "k1=[1,2,3,\"cherry\",\"banana\"]\n",
    "k2=[4,5,6,\"apple\", \"apricoat\"]\n",
    "print(k1+k2)"
   ]
  },
  {
   "cell_type": "code",
   "execution_count": 35,
   "id": "7d8e718b-367d-4a4c-94ed-daef0c237dd6",
   "metadata": {},
   "outputs": [
    {
     "name": "stdout",
     "output_type": "stream",
     "text": [
      "yes\n"
     ]
    }
   ],
   "source": [
    "#How do you check if an element exists in a list in Python?\n",
    "k2=[4,5,6,\"apple\", \"apricoat\"]\n",
    "if \"apple\" in k2:\n",
    "      print(\"yes\")"
   ]
  },
  {
   "cell_type": "code",
   "execution_count": 3,
   "id": "8a3a1246-b456-4fc0-97d4-cacf7ff158c9",
   "metadata": {},
   "outputs": [
    {
     "name": "stdout",
     "output_type": "stream",
     "text": [
      "[465, 70, 34, 9, 6, 6, 5, 3, 2]\n"
     ]
    }
   ],
   "source": [
    "#How do you sort a list in Python?\n",
    "m=[3,6,2,9,6,34,70,465,5]\n",
    "m.sort(reverse=True)\n",
    "print(m)"
   ]
  },
  {
   "cell_type": "code",
   "execution_count": 4,
   "id": "5f00e86e-4b76-427f-a4c2-47ed15cc3d0d",
   "metadata": {},
   "outputs": [
    {
     "name": "stdout",
     "output_type": "stream",
     "text": [
      "[2, 3, 5, 6, 6, 9, 34, 70, 465]\n"
     ]
    }
   ],
   "source": [
    "m=[3,6,2,9,6,34,70,465,5]\n",
    "m.sort(reverse=False)\n",
    "print(m)"
   ]
  },
  {
   "cell_type": "code",
   "execution_count": 5,
   "id": "b5b6e82c-b33c-4159-8be3-f0e5c5cf0bca",
   "metadata": {},
   "outputs": [
    {
     "name": "stdout",
     "output_type": "stream",
     "text": [
      "['kamal', 'aman', 'amna']\n"
     ]
    }
   ],
   "source": [
    "#How do you reverse a list in Python?\n",
    "L2=[\"amna\",\"aman\",\"kamal\"]\n",
    "L2.reverse()\n",
    "print(L2)"
   ]
  },
  {
   "cell_type": "code",
   "execution_count": 20,
   "id": "cb9fd2bd-483a-4f21-9df8-354f3b4fcf4c",
   "metadata": {},
   "outputs": [
    {
     "name": "stdout",
     "output_type": "stream",
     "text": [
      "2\n"
     ]
    }
   ],
   "source": [
    "#How do you find the index of an element in a list in Python?\n",
    "L2=[\"amna\",\"aman\",\"kamal\"]\n",
    "a1=L2.index(\"kamal\")\n",
    "print(a1)"
   ]
  },
  {
   "cell_type": "code",
   "execution_count": 25,
   "id": "7046e3f9-3c30-4af4-a96b-e01ae24575c5",
   "metadata": {},
   "outputs": [
    {
     "data": {
      "text/plain": [
       "2"
      ]
     },
     "execution_count": 25,
     "metadata": {},
     "output_type": "execute_result"
    }
   ],
   "source": [
    "#How do you count the occurrences of an element in a list in Python\n",
    "m=[3,6,2,9,6,34,70,9,94,65,5]\n",
    "m.count(9)"
   ]
  },
  {
   "cell_type": "code",
   "execution_count": 27,
   "id": "42a801f8-5c22-4ab1-95b6-b2eaae578f10",
   "metadata": {},
   "outputs": [
    {
     "name": "stdout",
     "output_type": "stream",
     "text": [
      "[]\n"
     ]
    }
   ],
   "source": [
    "#How do you remove all elements from a list in Python?\n",
    "m=[3,6,2,9,6,34,70,9,94,65,5]\n",
    "m.clear()\n",
    "print(m)"
   ]
  },
  {
   "cell_type": "code",
   "execution_count": 30,
   "id": "7ed25340-68a1-4b1a-b19c-1463c8cc95c9",
   "metadata": {},
   "outputs": [
    {
     "name": "stdout",
     "output_type": "stream",
     "text": [
      "['amna', 'aman', 'kamal']\n"
     ]
    }
   ],
   "source": [
    "#How do you copy a list in Python?\n",
    "L2=[\"amna\",\"aman\",\"kamal\"]\n",
    "L3=L2.copy()\n",
    "print(L3)"
   ]
  },
  {
   "cell_type": "code",
   "execution_count": 33,
   "id": "4d9a47ba-e6bf-4462-a077-bb5751af1297",
   "metadata": {},
   "outputs": [
    {
     "name": "stdout",
     "output_type": "stream",
     "text": [
      "['amna', 'mango', 'aman', 'kamal']\n"
     ]
    }
   ],
   "source": [
    "#how do you insert an element at a specific position in a list in Python?\n",
    "L2=['amna', 'aman', 'kamal']\n",
    "#variable.insert(index,element to be add)\n",
    "L2.insert(1,\"mango\")\n",
    "print(L2)"
   ]
  },
  {
   "cell_type": "code",
   "execution_count": 37,
   "id": "906409b9-83a2-4e61-9e9c-2f9a219d2209",
   "metadata": {},
   "outputs": [
    {
     "name": "stdout",
     "output_type": "stream",
     "text": [
      "['amna', 'mango', 'kamal']\n"
     ]
    }
   ],
   "source": [
    "#How do you remove an element by index from a list in Python?\n",
    "L2=['amna', 'mango', 'aman', 'kamal']\n",
    "del L2[2]\n",
    "print(L2)"
   ]
  },
  {
   "cell_type": "code",
   "execution_count": 38,
   "id": "6f136018-d9fb-4493-a6f2-88347ae8cd67",
   "metadata": {},
   "outputs": [
    {
     "name": "stdout",
     "output_type": "stream",
     "text": [
      "apricoat\n"
     ]
    }
   ],
   "source": [
    "#How do you get the last element of a list in Python?\n",
    "s=[1, 2, 3, 'cherry', 'banana', 4, 5, 6, 'apple', 'apricoat']\n",
    "print(s[-1])"
   ]
  },
  {
   "cell_type": "code",
   "execution_count": 45,
   "id": "87f749a8-adcc-445b-8f20-e873318d889e",
   "metadata": {},
   "outputs": [
    {
     "name": "stdout",
     "output_type": "stream",
     "text": [
      "[1, 2, 3, 'cherry', 'banana', 4, 5, 6, 'apple', 'apricoat', 'amna', 'mango', 'aman', 'kamal']\n"
     ]
    }
   ],
   "source": [
    "#How do you extend a list with another list in Python?\"\n",
    "s=[1, 2, 3, 'cherry', 'banana', 4, 5, 6, 'apple', 'apricoat']\n",
    "L2=['amna', 'mango', 'aman', 'kamal']\n",
    "s.extend(L2)\n",
    "print(s)"
   ]
  },
  {
   "cell_type": "code",
   "execution_count": null,
   "id": "a548ae81-ac3b-4e3c-a416-681026239068",
   "metadata": {},
   "outputs": [],
   "source": []
  }
 ],
 "metadata": {
  "kernelspec": {
   "display_name": "Python 3 (ipykernel)",
   "language": "python",
   "name": "python3"
  },
  "language_info": {
   "codemirror_mode": {
    "name": "ipython",
    "version": 3
   },
   "file_extension": ".py",
   "mimetype": "text/x-python",
   "name": "python",
   "nbconvert_exporter": "python",
   "pygments_lexer": "ipython3",
   "version": "3.12.3"
  }
 },
 "nbformat": 4,
 "nbformat_minor": 5
}
