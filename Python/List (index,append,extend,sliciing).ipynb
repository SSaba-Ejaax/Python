{
 "cells": [
  {
   "cell_type": "code",
   "execution_count": 2,
   "id": "d8085b8e",
   "metadata": {},
   "outputs": [
    {
     "name": "stdout",
     "output_type": "stream",
     "text": [
      "[1, 2, 3, 4, 5]\n"
     ]
    }
   ],
   "source": [
    "num = [1,2,3,4,5]\n",
    "print(num)"
   ]
  },
  {
   "cell_type": "code",
   "execution_count": 79,
   "id": "b937377b",
   "metadata": {
    "scrolled": true
   },
   "outputs": [
    {
     "name": "stdout",
     "output_type": "stream",
     "text": [
      "['b', 'v', 't']\n"
     ]
    }
   ],
   "source": [
    "a=[\"b\",'v',\"t\"]\n",
    "print(a)"
   ]
  },
  {
   "cell_type": "code",
   "execution_count": 80,
   "id": "0e502b42",
   "metadata": {},
   "outputs": [
    {
     "name": "stdout",
     "output_type": "stream",
     "text": [
      "['AI', 'robotics', 'NLP', 'names', 'cities', 'countries', 'maps', 'houses', 'electronics']\n"
     ]
    }
   ],
   "source": [
    "task1=[\"AI\",\"robotics\",\"NLP\",\"names\",\"cities\",\"countries\",\"maps\",\"houses\",\"electronics\"]\n",
    "print(task1)"
   ]
  },
  {
   "cell_type": "markdown",
   "id": "ca2d31db",
   "metadata": {},
   "source": [
    "# index()"
   ]
  },
  {
   "cell_type": "code",
   "execution_count": null,
   "id": "a78b6de2",
   "metadata": {},
   "outputs": [],
   "source": [
    "# if u want to access a specific element/data from the list u can use indexing"
   ]
  },
  {
   "cell_type": "code",
   "execution_count": 81,
   "id": "570fedfa",
   "metadata": {},
   "outputs": [
    {
     "name": "stdout",
     "output_type": "stream",
     "text": [
      "countries\n"
     ]
    }
   ],
   "source": [
    "print(task1[5])"
   ]
  },
  {
   "cell_type": "code",
   "execution_count": 82,
   "id": "1d84e5b3",
   "metadata": {},
   "outputs": [
    {
     "data": {
      "text/plain": [
       "'countries'"
      ]
     },
     "execution_count": 82,
     "metadata": {},
     "output_type": "execute_result"
    }
   ],
   "source": [
    "task1[5]"
   ]
  },
  {
   "cell_type": "markdown",
   "id": "6e7baa5d",
   "metadata": {},
   "source": [
    "# access value from list "
   ]
  },
  {
   "cell_type": "code",
   "execution_count": 83,
   "id": "2c041068",
   "metadata": {},
   "outputs": [
    {
     "name": "stdout",
     "output_type": "stream",
     "text": [
      "electronics\n"
     ]
    }
   ],
   "source": [
    "task1=[\"AI\",\"robotics\",\"NLP\",\"names\",\"cities\",\"countries\",\"maps\",\"houses\",\"electronics\"]\n",
    "print(task1[8])"
   ]
  },
  {
   "cell_type": "markdown",
   "id": "93a1a865",
   "metadata": {},
   "source": [
    "# length()"
   ]
  },
  {
   "cell_type": "code",
   "execution_count": 84,
   "id": "895097c9",
   "metadata": {},
   "outputs": [
    {
     "data": {
      "text/plain": [
       "9"
      ]
     },
     "execution_count": 84,
     "metadata": {},
     "output_type": "execute_result"
    }
   ],
   "source": [
    "#to know the length of the list we have to mention name of the list and \"len()\" keyword\n",
    "len(task1)"
   ]
  },
  {
   "cell_type": "markdown",
   "id": "5e9d05d6",
   "metadata": {},
   "source": [
    "# append()"
   ]
  },
  {
   "cell_type": "code",
   "execution_count": 17,
   "id": "1d549cc4",
   "metadata": {},
   "outputs": [],
   "source": [
    "# if we want to add only one value in the last of the list we have to use \"append()\" keyword \n",
    "variable.append('the word u want to add')"
   ]
  },
  {
   "cell_type": "code",
   "execution_count": 97,
   "id": "e6452119",
   "metadata": {},
   "outputs": [
    {
     "name": "stdout",
     "output_type": "stream",
     "text": [
      "['AI', 'robotics', 'NLP', 'names', 'cities', 'countries', 'maps', 'houses', 'electronics', 'ink']\n"
     ]
    }
   ],
   "source": [
    "task1=[\"AI\",\"robotics\",\"NLP\",\"names\",\"cities\",\"countries\",\"maps\",\"houses\",\"electronics\"]\n",
    "task1.append(\"ink\")\n",
    "print(task1)"
   ]
  },
  {
   "cell_type": "code",
   "execution_count": 98,
   "id": "c5942f63",
   "metadata": {},
   "outputs": [
    {
     "data": {
      "text/plain": [
       "10"
      ]
     },
     "execution_count": 98,
     "metadata": {},
     "output_type": "execute_result"
    }
   ],
   "source": [
    "len(task1)"
   ]
  },
  {
   "cell_type": "code",
   "execution_count": 99,
   "id": "e512cb8b",
   "metadata": {},
   "outputs": [
    {
     "name": "stdout",
     "output_type": "stream",
     "text": [
      "['AI', 'robotics', 'NLP', 'names', 'cities', 'countries', 'maps', 'houses', 'electronics', 'ink', 'Pakistan']\n"
     ]
    }
   ],
   "source": [
    "task1=['AI', 'robotics', 'NLP', 'names', 'cities', 'countries', 'maps', 'houses', 'electronics', 'ink']\n",
    "task1.append(\"Pakistan\")\n",
    "print(task1)"
   ]
  },
  {
   "cell_type": "code",
   "execution_count": 100,
   "id": "bd845715",
   "metadata": {},
   "outputs": [
    {
     "name": "stdout",
     "output_type": "stream",
     "text": [
      "['AI', 'robotics', 'NLP', 'names', 'cities', 'countries', 'houses', 'electronics', 'ink', 'Pakistan']\n"
     ]
    }
   ],
   "source": [
    "task1.remove(\"maps\")\n",
    "print(task1)"
   ]
  },
  {
   "cell_type": "markdown",
   "id": "0ea4e1aa",
   "metadata": {},
   "source": [
    "# extend()"
   ]
  },
  {
   "cell_type": "code",
   "execution_count": null,
   "id": "2e24e5e1",
   "metadata": {},
   "outputs": [],
   "source": [
    "# if we want to add multiple values in the last of  a list we have to use keyword \"extend()\"\n",
    "variable.extend('multiple data  u want to add')"
   ]
  },
  {
   "cell_type": "code",
   "execution_count": 101,
   "id": "853e2547",
   "metadata": {},
   "outputs": [
    {
     "name": "stdout",
     "output_type": "stream",
     "text": [
      "['AI', 'robotics', 'NLP', 'names', 'cities', 'countries', 'houses', 'electronics', 'ink', 'Pakistan', 'book', 'pencil', 'Zain']\n"
     ]
    }
   ],
   "source": [
    "task1=['AI', 'robotics', 'NLP', 'names', 'cities', 'countries', 'houses', 'electronics', 'ink', 'Pakistan']\n",
    "task1.extend([\"book\",\"pencil\",\"Zain\"])\n",
    "print(task1)"
   ]
  },
  {
   "cell_type": "code",
   "execution_count": 102,
   "id": "3ef34ab9",
   "metadata": {},
   "outputs": [
    {
     "name": "stdout",
     "output_type": "stream",
     "text": [
      "Pakistan\n"
     ]
    }
   ],
   "source": [
    "task2=task1.pop(9)\n",
    "print(task2)"
   ]
  },
  {
   "cell_type": "code",
   "execution_count": 103,
   "id": "62f0486c",
   "metadata": {},
   "outputs": [
    {
     "name": "stdout",
     "output_type": "stream",
     "text": [
      "['AI', 'robotics', 'NLP', 'names', 'cities', 'countries', 'houses', 'electronics', 'ink', 'book', 'pencil', 'Zain']\n"
     ]
    }
   ],
   "source": [
    "\n",
    "print(task1)"
   ]
  },
  {
   "cell_type": "code",
   "execution_count": 104,
   "id": "86763d5f",
   "metadata": {},
   "outputs": [
    {
     "name": "stdout",
     "output_type": "stream",
     "text": [
      "Pakistan\n"
     ]
    }
   ],
   "source": [
    "print(task2)"
   ]
  },
  {
   "cell_type": "markdown",
   "id": "7cb4b6c8",
   "metadata": {},
   "source": [
    "# insert()"
   ]
  },
  {
   "cell_type": "code",
   "execution_count": null,
   "id": "d6afa928",
   "metadata": {},
   "outputs": [],
   "source": [
    "#if we want to add willing data  in the list we have to mention index and the element we want to add \n",
    "variable.insert(index,\"apple\")"
   ]
  },
  {
   "cell_type": "code",
   "execution_count": 106,
   "id": "d3465519",
   "metadata": {},
   "outputs": [
    {
     "name": "stdout",
     "output_type": "stream",
     "text": [
      "['AI', 'robotics', 'NLP', 'names', 'cities', 'countries', 'maps', 'houses', 'electronics']\n"
     ]
    }
   ],
   "source": [
    "old=[\"AI\",\"robotics\",\"NLP\",\"names\",\"cities\",\"countries\",\"maps\",\"houses\",\"electronics\"]\n",
    "print(old)"
   ]
  },
  {
   "cell_type": "code",
   "execution_count": 107,
   "id": "5bf9f8ed",
   "metadata": {},
   "outputs": [
    {
     "name": "stdout",
     "output_type": "stream",
     "text": [
      "['AI', 'robotics', 'NLP', 'names', 'cherry', 'cities', 'countries', 'maps', 'houses', 'electronics']\n"
     ]
    }
   ],
   "source": [
    "old.insert(4,\"cherry\")\n",
    "print(old)"
   ]
  },
  {
   "cell_type": "markdown",
   "id": "197a2dda",
   "metadata": {},
   "source": [
    "# count()"
   ]
  },
  {
   "cell_type": "code",
   "execution_count": 108,
   "id": "1fb74161",
   "metadata": {},
   "outputs": [
    {
     "data": {
      "text/plain": [
       "1"
      ]
     },
     "execution_count": 108,
     "metadata": {},
     "output_type": "execute_result"
    }
   ],
   "source": [
    "#if we want count element  in a list we use count keyword\n",
    "old.count(\"cities\")"
   ]
  },
  {
   "cell_type": "markdown",
   "id": "f1471a7a",
   "metadata": {},
   "source": [
    "# clear()"
   ]
  },
  {
   "cell_type": "code",
   "execution_count": 69,
   "id": "786a0db6",
   "metadata": {},
   "outputs": [
    {
     "name": "stdout",
     "output_type": "stream",
     "text": [
      "[]\n"
     ]
    }
   ],
   "source": [
    "num=[1,2,3,4,5,6,7,8,9]\n",
    "num.clear()\n",
    "print(num)"
   ]
  },
  {
   "cell_type": "markdown",
   "id": "214e4026",
   "metadata": {},
   "source": [
    "# copy by value"
   ]
  },
  {
   "cell_type": "code",
   "execution_count": null,
   "id": "9e9d5cbb",
   "metadata": {},
   "outputs": [],
   "source": [
    "# if we want  to copy one list to the other list we can simply use copy by value method "
   ]
  },
  {
   "cell_type": "code",
   "execution_count": 70,
   "id": "3c7be44e",
   "metadata": {},
   "outputs": [
    {
     "name": "stdout",
     "output_type": "stream",
     "text": [
      "['ali', 'ahmed', 'amna']\n"
     ]
    }
   ],
   "source": [
    "names=[\"ali\",\"ahmed\",\"amna\"]\n",
    "bwp=names.copy()\n",
    "print(bwp)"
   ]
  },
  {
   "cell_type": "markdown",
   "id": "5f4ed053",
   "metadata": {},
   "source": [
    "# copy by refrence"
   ]
  },
  {
   "cell_type": "code",
   "execution_count": null,
   "id": "491977a6",
   "metadata": {},
   "outputs": [],
   "source": [
    "# if we want to make a real time change in list like if we changes one list the other must be changed according to first list then we use copy by refrence"
   ]
  },
  {
   "cell_type": "code",
   "execution_count": 109,
   "id": "f5a63222",
   "metadata": {},
   "outputs": [
    {
     "name": "stdout",
     "output_type": "stream",
     "text": [
      "['ali', 'ahmed', 'amna']\n"
     ]
    }
   ],
   "source": [
    "lhr=names\n",
    "print(lhr)"
   ]
  },
  {
   "cell_type": "code",
   "execution_count": 110,
   "id": "91e3d341",
   "metadata": {},
   "outputs": [
    {
     "name": "stdout",
     "output_type": "stream",
     "text": [
      "['ali', 'ahmed', 'amna', 'zain']\n"
     ]
    }
   ],
   "source": [
    "names.append(\"zain\")\n",
    "print(names)"
   ]
  },
  {
   "cell_type": "code",
   "execution_count": 111,
   "id": "087e6c37",
   "metadata": {},
   "outputs": [
    {
     "name": "stdout",
     "output_type": "stream",
     "text": [
      "['ali', 'ahmed', 'amna', 'zain']\n"
     ]
    }
   ],
   "source": [
    "print(lhr)"
   ]
  },
  {
   "cell_type": "markdown",
   "id": "67e1c3ea",
   "metadata": {},
   "source": [
    "# remove data with data name (remove)"
   ]
  },
  {
   "cell_type": "code",
   "execution_count": null,
   "id": "f23736fb",
   "metadata": {},
   "outputs": [],
   "source": [
    "# if we want to remove data without declaring index no. so use declare the element(data we want to remove )"
   ]
  },
  {
   "cell_type": "code",
   "execution_count": 116,
   "id": "ca99eeac",
   "metadata": {},
   "outputs": [
    {
     "name": "stdout",
     "output_type": "stream",
     "text": [
      "['ali', 'amna', 'zain']\n"
     ]
    }
   ],
   "source": [
    "#remove data without index\n",
    "names=['ali', 'ahmed', 'amna', 'zain']\n",
    "names.remove(\"ahmed\")\n",
    "print(names)"
   ]
  },
  {
   "cell_type": "markdown",
   "id": "cc6d290c",
   "metadata": {},
   "source": [
    "# remove data with index (del)"
   ]
  },
  {
   "cell_type": "code",
   "execution_count": null,
   "id": "b0628b73",
   "metadata": {},
   "outputs": [],
   "source": [
    "# if we want to remove data by declaring a index no. we use del keyword"
   ]
  },
  {
   "cell_type": "code",
   "execution_count": 120,
   "id": "454f0647",
   "metadata": {},
   "outputs": [
    {
     "name": "stdout",
     "output_type": "stream",
     "text": [
      "['ali', 'ahmed', 'zain']\n"
     ]
    }
   ],
   "source": [
    "names=['ali', 'ahmed', 'amna', 'zain']\n",
    "del names[2]\n",
    "print(names)"
   ]
  },
  {
   "cell_type": "markdown",
   "id": "ab32dc7d",
   "metadata": {},
   "source": [
    "# shifting data from existing to new list (pop)"
   ]
  },
  {
   "cell_type": "code",
   "execution_count": null,
   "id": "1e0570ad",
   "metadata": {},
   "outputs": [],
   "source": [
    "# if u want to shift data from one list to another (from existing  list to new one ),use pop keyword with the index no of the element u want to shift"
   ]
  },
  {
   "cell_type": "code",
   "execution_count": 121,
   "id": "37381736",
   "metadata": {},
   "outputs": [
    {
     "name": "stdout",
     "output_type": "stream",
     "text": [
      "orange\n"
     ]
    }
   ],
   "source": [
    "fsl=['apple','mango','orange']\n",
    "isl=fsl.pop(2)\n",
    "print(isl)"
   ]
  },
  {
   "cell_type": "code",
   "execution_count": 122,
   "id": "06e385f5",
   "metadata": {},
   "outputs": [
    {
     "name": "stdout",
     "output_type": "stream",
     "text": [
      "['apple', 'mango']\n"
     ]
    }
   ],
   "source": [
    "print(fsl)"
   ]
  },
  {
   "cell_type": "markdown",
   "id": "cb623f67",
   "metadata": {},
   "source": [
    "# arrange vales from desccending to ascending "
   ]
  },
  {
   "cell_type": "code",
   "execution_count": null,
   "id": "2c33315f",
   "metadata": {},
   "outputs": [],
   "source": [
    "# if u want to arrange numbers,alphabets or something from desccending to ascending order,use True"
   ]
  },
  {
   "cell_type": "code",
   "execution_count": 123,
   "id": "6832000c",
   "metadata": {},
   "outputs": [
    {
     "name": "stdout",
     "output_type": "stream",
     "text": [
      "[90, 70, 50, 40, 30, 20]\n"
     ]
    }
   ],
   "source": [
    "int=[40,90,50,70,30,20]\n",
    "int.sort(reverse=True)\n",
    "print(int)"
   ]
  },
  {
   "cell_type": "code",
   "execution_count": 124,
   "id": "8fe74720",
   "metadata": {},
   "outputs": [
    {
     "name": "stdout",
     "output_type": "stream",
     "text": [
      "['v', 'k', 'g', 'f', 'c', 'b']\n"
     ]
    }
   ],
   "source": [
    "a=[\"v\",\"f\",\"g\",\"k\",\"b\",\"c\"]\n",
    "a.sort(reverse=True)\n",
    "print(a)"
   ]
  },
  {
   "cell_type": "markdown",
   "id": "5f32579a",
   "metadata": {},
   "source": [
    "# arrange values from ascendig to descending "
   ]
  },
  {
   "cell_type": "code",
   "execution_count": null,
   "id": "fbd9602e",
   "metadata": {},
   "outputs": [],
   "source": [
    "# if u want to arrange numbers,alphabets or something from ascending to desccending order,use False"
   ]
  },
  {
   "cell_type": "code",
   "execution_count": 125,
   "id": "4a91f0d7",
   "metadata": {},
   "outputs": [
    {
     "name": "stdout",
     "output_type": "stream",
     "text": [
      "[20, 30, 40, 50, 70, 90]\n"
     ]
    }
   ],
   "source": [
    "int=[40,90,50,70,30,20]\n",
    "int.sort(reverse=False)\n",
    "print(int)"
   ]
  },
  {
   "cell_type": "code",
   "execution_count": 126,
   "id": "8e41f32d",
   "metadata": {},
   "outputs": [
    {
     "name": "stdout",
     "output_type": "stream",
     "text": [
      "['b', 'c', 'f', 'g', 'k', 'v']\n"
     ]
    }
   ],
   "source": [
    "a=[\"v\",\"f\",\"g\",\"k\",\"b\",\"c\"]\n",
    "a.sort(reverse=False)\n",
    "print(a)"
   ]
  },
  {
   "cell_type": "markdown",
   "id": "52f19216",
   "metadata": {},
   "source": [
    "# slicing"
   ]
  },
  {
   "cell_type": "code",
   "execution_count": null,
   "id": "a618911c",
   "metadata": {},
   "outputs": [],
   "source": [
    "# if u want to access every element of the list"
   ]
  },
  {
   "cell_type": "code",
   "execution_count": 127,
   "id": "a3b9104a",
   "metadata": {},
   "outputs": [
    {
     "name": "stdout",
     "output_type": "stream",
     "text": [
      "['AI', 'robotics', 'NLP', 'names', 'cities', 'countries', 'maps', 'houses', 'electronics']\n"
     ]
    }
   ],
   "source": [
    "values=['AI', 'robotics', 'NLP', 'names', 'cities', 'countries', 'maps', 'houses', 'electronics']\n",
    "print(values[ : ])"
   ]
  },
  {
   "cell_type": "markdown",
   "id": "c738047c",
   "metadata": {},
   "source": [
    "# Types of slicing"
   ]
  },
  {
   "cell_type": "markdown",
   "id": "6064196a",
   "metadata": {},
   "source": [
    "# positive slicing"
   ]
  },
  {
   "cell_type": "code",
   "execution_count": null,
   "id": "31deab0e",
   "metadata": {},
   "outputs": [],
   "source": [
    "# positive slicing starts from 0 onwards of the list and from left to right side "
   ]
  },
  {
   "cell_type": "code",
   "execution_count": 128,
   "id": "dbb67483",
   "metadata": {},
   "outputs": [
    {
     "name": "stdout",
     "output_type": "stream",
     "text": [
      "['AI', 'robotics', 'NLP', 'names', 'cities']\n"
     ]
    }
   ],
   "source": [
    "print(values[ 0: 5])"
   ]
  },
  {
   "cell_type": "code",
   "execution_count": 129,
   "id": "138c1e95",
   "metadata": {},
   "outputs": [
    {
     "name": "stdout",
     "output_type": "stream",
     "text": [
      "['AI', 'robotics', 'NLP', 'names', 'cities']\n"
     ]
    }
   ],
   "source": [
    "print(values[ : 5])"
   ]
  },
  {
   "cell_type": "code",
   "execution_count": 130,
   "id": "8ddf706a",
   "metadata": {},
   "outputs": [
    {
     "name": "stdout",
     "output_type": "stream",
     "text": [
      "['cities', 'countries', 'maps', 'houses', 'electronics']\n"
     ]
    }
   ],
   "source": [
    "print(values[4 : ])"
   ]
  },
  {
   "cell_type": "markdown",
   "id": "cfaa9de4",
   "metadata": {},
   "source": [
    "# negative slicing"
   ]
  },
  {
   "cell_type": "code",
   "execution_count": null,
   "id": "dfc3425d",
   "metadata": {},
   "outputs": [],
   "source": [
    "# negative  slicing starts from -1 backwards of the list  and from right side   to left "
   ]
  },
  {
   "cell_type": "code",
   "execution_count": 131,
   "id": "ce89a524",
   "metadata": {},
   "outputs": [
    {
     "name": "stdout",
     "output_type": "stream",
     "text": [
      "['cities', 'countries', 'maps', 'houses']\n"
     ]
    }
   ],
   "source": [
    "print(values[ -5: -1])"
   ]
  },
  {
   "cell_type": "code",
   "execution_count": 79,
   "id": "950f195f",
   "metadata": {},
   "outputs": [
    {
     "name": "stdout",
     "output_type": "stream",
     "text": [
      "['cities', 'countries', 'maps', 'houses', 'electronics']\n"
     ]
    }
   ],
   "source": [
    "print(values[ -5: ])"
   ]
  },
  {
   "cell_type": "code",
   "execution_count": 80,
   "id": "3cd3b495",
   "metadata": {},
   "outputs": [
    {
     "name": "stdout",
     "output_type": "stream",
     "text": [
      "['AI', 'robotics', 'NLP', 'names', 'cities', 'countries', 'maps']\n"
     ]
    }
   ],
   "source": [
    "print(values[ : -2])"
   ]
  },
  {
   "cell_type": "markdown",
   "id": "ed7ae165",
   "metadata": {},
   "source": [
    "# steps in slicing"
   ]
  },
  {
   "cell_type": "code",
   "execution_count": 85,
   "id": "3df34c2f",
   "metadata": {},
   "outputs": [
    {
     "name": "stdout",
     "output_type": "stream",
     "text": [
      "['robotics', 'cities', 'houses']\n"
     ]
    }
   ],
   "source": [
    "print(values[1:9:3])"
   ]
  },
  {
   "cell_type": "markdown",
   "id": "616f6782",
   "metadata": {},
   "source": [
    "# type()"
   ]
  },
  {
   "cell_type": "code",
   "execution_count": null,
   "id": "aad180fc",
   "metadata": {},
   "outputs": [],
   "source": [
    "# used to get the tupe of list"
   ]
  },
  {
   "cell_type": "code",
   "execution_count": 78,
   "id": "2888f308",
   "metadata": {},
   "outputs": [
    {
     "data": {
      "text/plain": [
       "str"
      ]
     },
     "execution_count": 78,
     "metadata": {},
     "output_type": "execute_result"
    }
   ],
   "source": [
    "type(task2)"
   ]
  },
  {
   "cell_type": "markdown",
   "id": "1e0c4980",
   "metadata": {},
   "source": [
    "# length()"
   ]
  },
  {
   "cell_type": "code",
   "execution_count": null,
   "id": "dbc4527c",
   "metadata": {},
   "outputs": [],
   "source": [
    "# use to get the length of list"
   ]
  },
  {
   "cell_type": "code",
   "execution_count": 77,
   "id": "313d5568",
   "metadata": {},
   "outputs": [
    {
     "data": {
      "text/plain": [
       "10"
      ]
     },
     "execution_count": 77,
     "metadata": {},
     "output_type": "execute_result"
    }
   ],
   "source": [
    "len(task1)"
   ]
  }
 ],
 "metadata": {
  "kernelspec": {
   "display_name": "Python 3 (ipykernel)",
   "language": "python",
   "name": "python3"
  },
  "language_info": {
   "codemirror_mode": {
    "name": "ipython",
    "version": 3
   },
   "file_extension": ".py",
   "mimetype": "text/x-python",
   "name": "python",
   "nbconvert_exporter": "python",
   "pygments_lexer": "ipython3",
   "version": "3.11.5"
  }
 },
 "nbformat": 4,
 "nbformat_minor": 5
}
